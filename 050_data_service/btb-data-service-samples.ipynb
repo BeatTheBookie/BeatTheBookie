{
 "cells": [
  {
   "cell_type": "markdown",
   "metadata": {},
   "source": [
    "## Basic connect\n",
    "\n",
    "Sample how to connect to the REST Api and test the API key"
   ]
  },
  {
   "cell_type": "code",
   "execution_count": null,
   "metadata": {},
   "outputs": [],
   "source": [
    "import requests\n",
    "\n",
    "#endpoint for ZIP poisson model\n",
    "url = 'https://data-service.beatthebookie.blog/auth-test'\n",
    "\n",
    "#create header information containing the API Key\n",
    "my_headers = {'x-api-key' : '[API-key]'}\n",
    "\n",
    "#Call HTTP get method for endpoint and provide header information\n",
    "response = requests.get(url, headers=my_headers)\n",
    "\n",
    "#print response\n",
    "print(response.content)"
   ]
  },
  {
   "cell_type": "markdown",
   "metadata": {},
   "source": [
    "## Read data and store in Pandas data frame\n",
    "\n",
    "Sample how to connect to the REST Api and handle data in\n",
    "a pandas data frame."
   ]
  },
  {
   "cell_type": "code",
   "execution_count": null,
   "metadata": {},
   "outputs": [],
   "source": [
    "import requests\n",
    "import pandas as pd\n",
    "import json\n",
    "\n",
    "\n",
    "#endpoint for ZIP poisson model\n",
    "url = 'https://data-service.beatthebookie.blog/zip-poisson-model'\n",
    "\n",
    "# 2. bundesliga\n",
    "params = {'division':'2. Bundesliga'}\n",
    "\n",
    "#create header information containing the API Key\n",
    "my_headers = {'x-api-key' : '[API key]'}\n",
    "\n",
    "#Call HTTP get method for endpoint and provide header information\n",
    "response = requests.get(url, headers=my_headers,  params=params)\n",
    "\n",
    "df_predictions = pd.read_json(response.content)\n",
    "\n",
    "print(df_predictions)"
   ]
  },
  {
   "cell_type": "markdown",
   "metadata": {},
   "source": [
    "## Read data in different modes\n",
    "\n",
    "Sample how to connect to the REST Api and handle data in a pandas data frame."
   ]
  },
  {
   "cell_type": "code",
   "execution_count": null,
   "metadata": {},
   "outputs": [],
   "source": [
    "import requests\n",
    "import pandas as pd\n",
    "import json\n",
    "\n",
    "#endpoint for ZIP poisson model\n",
    "url = 'https://data-service.beatthebookie.blog/zip-poisson-model'\n",
    "\n",
    "# \"hist\" or \"pred\"\n",
    "params = {'mode': 'hist','division':'Bundesliga'}\n",
    "\n",
    "#create header information containing the API Key\n",
    "my_headers = {'x-api-key' : '[API-Key]'}\n",
    "\n",
    "#Call HTTP get method for endpoint and provide header information\n",
    "response = requests.get(url, headers=my_headers,  params=params)\n",
    "\n",
    "if response.status_code == 200:\n",
    "    df_predictions = pd.read_json(response.content)\n",
    "    print(df_predictions)\n",
    "else:\n",
    "    print(response.content)"
   ]
  }
 ],
 "metadata": {
  "kernelspec": {
   "display_name": "Python 3",
   "language": "python",
   "name": "python3"
  },
  "language_info": {
   "codemirror_mode": {
    "name": "ipython",
    "version": 3
   },
   "file_extension": ".py",
   "mimetype": "text/x-python",
   "name": "python",
   "nbconvert_exporter": "python",
   "pygments_lexer": "ipython3",
   "version": "3.8.3"
  }
 },
 "nbformat": 4,
 "nbformat_minor": 4
}
