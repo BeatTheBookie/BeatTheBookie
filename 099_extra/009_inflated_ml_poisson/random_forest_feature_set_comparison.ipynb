{
 "cells": [
  {
   "cell_type": "code",
   "execution_count": 17,
   "metadata": {},
   "outputs": [],
   "source": [
    "import pyexasol\n",
    "import pandas as pd\n",
    "import boto3\n",
    "import time\n",
    "import io\n",
    "import numpy as np\n",
    "from matplotlib import pyplot as plt\n",
    "\n",
    "class QueryAthena:\n",
    "\n",
    "    def __init__(self, query, database):\n",
    "        self.database = 'btb-serving'\n",
    "        self.folder = 'api/'\n",
    "        self.bucket = 'btb-athena-query-results'\n",
    "        self.s3_input = 's3://' + self.bucket + '/my_folder_input'\n",
    "        self.s3_output =  's3://' + self.bucket + '/' + self.folder\n",
    "        self.region_name = 'eu-central-1'\n",
    "        self.query = query\n",
    "        self.access_key = '***'\n",
    "        self.secret_key = '***'\n",
    "\n",
    "    def load_conf(self, q):\n",
    "        \n",
    "        try:\n",
    "            self.client = boto3.client('athena', region_name = self.region_name, aws_access_key_id=self.access_key,\n",
    "                                  aws_secret_access_key=self.secret_key)\n",
    "            \n",
    "            response = self.client.start_query_execution(\n",
    "                QueryString = q,\n",
    "                    QueryExecutionContext={\n",
    "                    'Database': self.database\n",
    "                    },\n",
    "                    ResultConfiguration={\n",
    "                    'OutputLocation': self.s3_output,\n",
    "                    }\n",
    "            )\n",
    "            self.filename = response['QueryExecutionId']\n",
    "            #print('Execution ID: ' + response['QueryExecutionId'])\n",
    "\n",
    "        except Exception as e:\n",
    "            print(e)\n",
    "        return response                \n",
    "\n",
    "    def run_query(self):\n",
    "        queries = [self.query]\n",
    "        for q in queries:\n",
    "            res = self.load_conf(q)\n",
    "        try:              \n",
    "            query_status = None\n",
    "            while query_status == 'QUEUED' or query_status == 'RUNNING' or query_status is None:\n",
    "                query_status = self.client.get_query_execution(QueryExecutionId=res[\"QueryExecutionId\"])['QueryExecution']['Status']['State']\n",
    "                query_status2 = self.client.get_query_execution(QueryExecutionId=res[\"QueryExecutionId\"])['QueryExecution']['Status']\n",
    "                #print(query_status2)\n",
    "                if query_status == 'FAILED' or query_status == 'CANCELLED':\n",
    "                    raise Exception('Athena query with the string \"{}\" failed or was cancelled'.format(self.query))\n",
    "                time.sleep(0.2)\n",
    "            #print('Query \"{}\" finished.'.format(self.query))\n",
    "\n",
    "            df = self.obtain_data()\n",
    "            return df\n",
    "\n",
    "        except Exception as e:\n",
    "            print(e)      \n",
    "\n",
    "    def obtain_data(self):\n",
    "        try:\n",
    "            self.resource = boto3.resource('s3', \n",
    "                                  region_name = self.region_name,\n",
    "                                  aws_access_key_id=self.access_key,\n",
    "                                  aws_secret_access_key=self.secret_key)\n",
    "                                  \n",
    "            #print(self.bucket)\n",
    "            #print(self.folder)\n",
    "            #print(self.filename)\n",
    "            \n",
    "            # S3 Object\n",
    "            res_obj = self.resource.Object(bucket_name=self.bucket, key=self.folder + self.filename + '.csv')\n",
    "            response = res_obj.get()\n",
    "            \n",
    "            return pd.read_csv(io.BytesIO(response['Body'].read()), encoding='utf8')   \n",
    "        except Exception as e:\n",
    "            print(e) "
   ]
  },
  {
   "attachments": {},
   "cell_type": "markdown",
   "metadata": {},
   "source": [
    "## data function to get iterator data"
   ]
  },
  {
   "cell_type": "code",
   "execution_count": 20,
   "metadata": {},
   "outputs": [],
   "source": [
    "\n",
    "#get iterator month data\n",
    "def get_feature_types():\n",
    "\n",
    "    #get iterator datam\n",
    "    \n",
    "    v_sql = \"\"\"\n",
    "SELECT distinct\n",
    "        feature_type\n",
    "from\n",
    "    \"ml_poisson_features\"\n",
    "where\n",
    "    full_time_home_goals is not null\n",
    "    and home_shots_for_ema is not null\n",
    "    and away_shots_against_ema is not null\n",
    "    \"\"\"\n",
    "    \n",
    "    qa = QueryAthena(query=v_sql, database='btb-serving')\n",
    "    df_data = qa.run_query()\n",
    "\n",
    "    return df_data\n",
    "\n",
    "\n",
    "def get_home_data(feature_type_filter):\n",
    "    \n",
    "    v_sql = \"\"\"\n",
    "select\n",
    "    round(home_goals_for_ema,1)            home_goals_for_ema,\n",
    "    round(home_goals_against_ema,1)        home_goals_against_ema,\n",
    "    round(away_goals_for_ema,1)            away_goals_for_ema,\n",
    "    round(away_goals_against_ema,1)        away_goals_against_ema,\n",
    "    round(home_xg_for_ema,1)               home_xg_for_ema,\n",
    "    round(home_xg_against_ema,1)           home_xg_against_ema,\n",
    "    round(away_xg_for_ema,1)               away_xg_for_ema,\n",
    "    round(away_xg_against_ema,1)           away_xg_against_ema,\n",
    "    round(home_shots_for_ema,1)               home_shots_for_ema,\n",
    "    round(home_shots_against_ema,1)           home_shots_against_ema,\n",
    "    round(away_shots_for_ema,1)               away_shots_for_ema,\n",
    "    round(away_shots_against_ema,1)           away_shots_against_ema,\n",
    "    round(home_sot_for_ema,1)               home_sot_for_ema,\n",
    "    round(home_sot_against_ema,1)           home_sot_against_ema,\n",
    "    round(away_sot_for_ema,1)               away_sot_for_ema,\n",
    "    round(away_sot_against_ema,1)           away_sot_against_ema,\n",
    "    round(home_corners_for_ema,1)               home_corners_for_ema,\n",
    "    round(home_corners_against_ema,1)           home_corners_against_ema,\n",
    "    round(away_corners_for_ema,1)               away_corners_for_ema,\n",
    "    round(away_corners_against_ema,1)           away_corners_against_ema,\n",
    "    round(home_deep_for_ema,1)               home_deep_for_ema,\n",
    "    round(home_deep_against_ema,1)           home_deep_against_ema,\n",
    "    round(away_deep_for_ema,1)               away_deep_for_ema,\n",
    "    round(away_deep_against_ema,1)           away_deep_against_ema,\n",
    "    round(home_ppda_for_ema,1)               home_ppda_for_ema,\n",
    "    round(home_ppda_against_ema,1)           home_ppda_against_ema,\n",
    "    round(away_ppda_for_ema,1)               away_ppda_for_ema,\n",
    "    round(away_ppda_against_ema,1)           away_ppda_against_ema,\n",
    "    avg(full_time_home_goals)               full_time_home_goals,\n",
    "    avg(full_time_away_goals)               full_time_away_goals\n",
    "from\n",
    "    \"ml_poisson_features\"\n",
    "where\n",
    "    feature_type = '\"\"\" + str(feature_type_filter) + \"\"\"' and\n",
    "    home_goals_for_ema is not null and\n",
    "    home_goals_against_ema is not null and\n",
    "    away_goals_for_ema is not null and\n",
    "    away_goals_against_ema is not null and\n",
    "    home_xg_for_ema is not null and\n",
    "    home_xg_against_ema is not null and\n",
    "    away_xg_for_ema is not null and\n",
    "    away_xg_against_ema is not null and\n",
    "    home_shots_for_ema is not null and\n",
    "    home_shots_against_ema is not null and\n",
    "    away_shots_for_ema is not null and\n",
    "    away_shots_against_ema is not null and\n",
    "    home_sot_for_ema is not null and\n",
    "    home_sot_against_ema is not null and\n",
    "    away_sot_for_ema is not null and\n",
    "    away_sot_against_ema is not null and\n",
    "    home_corners_for_ema is not null and\n",
    "    home_corners_against_ema is not null and\n",
    "    away_corners_for_ema is not null and\n",
    "    away_corners_against_ema is not null and\n",
    "    home_deep_for_ema is not null and\n",
    "    home_deep_against_ema is not null and\n",
    "    away_deep_for_ema is not null and\n",
    "    away_deep_against_ema is not null and\n",
    "    home_ppda_for_ema is not null and\n",
    "    home_ppda_against_ema is not null and\n",
    "    away_ppda_for_ema is not null and\n",
    "    away_ppda_against_ema is not null and\n",
    "    full_time_home_goals is not null and\n",
    "    full_time_away_goals is not null\n",
    "group by 1,2,3,4,5,6,7,8,9,10,11,12,13,14,15,16,17,18,19,20,21,22,23,24,25,26,27,28\n",
    "    \"\"\"\n",
    "    \n",
    "    \n",
    "    qa = QueryAthena(query=v_sql, database='btb-serving')\n",
    "    df_data = qa.run_query()\n",
    "    \n",
    "    return df_data\n",
    "\n",
    "    \n",
    "    \n"
   ]
  },
  {
   "attachments": {},
   "cell_type": "markdown",
   "metadata": {},
   "source": [
    "## data function to get home and away data"
   ]
  },
  {
   "cell_type": "code",
   "execution_count": 23,
   "metadata": {},
   "outputs": [
    {
     "name": "stdout",
     "output_type": "stream",
     "text": [
      "  feature_type\n",
      "0   EMA20 COMB\n",
      "1   EMA10 COMB\n",
      "2      EMA5 HA\n",
      "3     EMA10 HA\n",
      "4   EMA15 COMB\n",
      "5    EMA5 COMB\n",
      "6     EMA20 HA\n",
      "7     EMA15 HA\n",
      "Loop for: EMA20 COMB\n",
      "...getting data\n",
      "...training models\n"
     ]
    },
    {
     "name": "stderr",
     "output_type": "stream",
     "text": [
      "C:\\ProgramData\\Anaconda3\\lib\\site-packages\\sklearn\\model_selection\\_split.py:670: UserWarning: The least populated class in y has only 2 members, which is less than n_splits=5.\n",
      "  warnings.warn((\"The least populated class in y has only %d\"\n",
      "C:\\ProgramData\\Anaconda3\\lib\\site-packages\\sklearn\\model_selection\\_split.py:670: UserWarning: The least populated class in y has only 2 members, which is less than n_splits=5.\n",
      "  warnings.warn((\"The least populated class in y has only %d\"\n",
      "C:\\ProgramData\\Anaconda3\\lib\\site-packages\\sklearn\\model_selection\\_split.py:670: UserWarning: The least populated class in y has only 2 members, which is less than n_splits=5.\n",
      "  warnings.warn((\"The least populated class in y has only %d\"\n"
     ]
    },
    {
     "name": "stdout",
     "output_type": "stream",
     "text": [
      "Best: -0.855821 using {'max_depth': 15, 'max_features': 10, 'max_leaf_nodes': 100, 'min_samples_leaf': 10, 'min_samples_split': 150, 'n_estimators': 500}\n",
      "Loop for: EMA10 COMB\n",
      "...getting data\n",
      "...training models\n"
     ]
    },
    {
     "name": "stderr",
     "output_type": "stream",
     "text": [
      "C:\\ProgramData\\Anaconda3\\lib\\site-packages\\sklearn\\model_selection\\_split.py:670: UserWarning: The least populated class in y has only 2 members, which is less than n_splits=5.\n",
      "  warnings.warn((\"The least populated class in y has only %d\"\n",
      "C:\\ProgramData\\Anaconda3\\lib\\site-packages\\sklearn\\model_selection\\_split.py:670: UserWarning: The least populated class in y has only 2 members, which is less than n_splits=5.\n",
      "  warnings.warn((\"The least populated class in y has only %d\"\n",
      "C:\\ProgramData\\Anaconda3\\lib\\site-packages\\sklearn\\model_selection\\_split.py:670: UserWarning: The least populated class in y has only 2 members, which is less than n_splits=5.\n",
      "  warnings.warn((\"The least populated class in y has only %d\"\n"
     ]
    },
    {
     "name": "stdout",
     "output_type": "stream",
     "text": [
      "Best: -0.858795 using {'max_depth': 15, 'max_features': 10, 'max_leaf_nodes': 100, 'min_samples_leaf': 10, 'min_samples_split': 150, 'n_estimators': 500}\n",
      "Loop for: EMA5 HA\n",
      "...getting data\n",
      "...training models\n"
     ]
    },
    {
     "name": "stderr",
     "output_type": "stream",
     "text": [
      "C:\\ProgramData\\Anaconda3\\lib\\site-packages\\sklearn\\model_selection\\_split.py:670: UserWarning: The least populated class in y has only 2 members, which is less than n_splits=5.\n",
      "  warnings.warn((\"The least populated class in y has only %d\"\n",
      "C:\\ProgramData\\Anaconda3\\lib\\site-packages\\sklearn\\model_selection\\_split.py:670: UserWarning: The least populated class in y has only 2 members, which is less than n_splits=5.\n",
      "  warnings.warn((\"The least populated class in y has only %d\"\n",
      "C:\\ProgramData\\Anaconda3\\lib\\site-packages\\sklearn\\model_selection\\_split.py:670: UserWarning: The least populated class in y has only 2 members, which is less than n_splits=5.\n",
      "  warnings.warn((\"The least populated class in y has only %d\"\n"
     ]
    },
    {
     "name": "stdout",
     "output_type": "stream",
     "text": [
      "Best: -0.864313 using {'max_depth': 15, 'max_features': 10, 'max_leaf_nodes': 100, 'min_samples_leaf': 10, 'min_samples_split': 150, 'n_estimators': 500}\n",
      "Loop for: EMA10 HA\n",
      "...getting data\n",
      "...training models\n"
     ]
    },
    {
     "name": "stderr",
     "output_type": "stream",
     "text": [
      "C:\\ProgramData\\Anaconda3\\lib\\site-packages\\sklearn\\model_selection\\_split.py:670: UserWarning: The least populated class in y has only 2 members, which is less than n_splits=5.\n",
      "  warnings.warn((\"The least populated class in y has only %d\"\n",
      "C:\\ProgramData\\Anaconda3\\lib\\site-packages\\sklearn\\model_selection\\_split.py:670: UserWarning: The least populated class in y has only 2 members, which is less than n_splits=5.\n",
      "  warnings.warn((\"The least populated class in y has only %d\"\n",
      "C:\\ProgramData\\Anaconda3\\lib\\site-packages\\sklearn\\model_selection\\_split.py:670: UserWarning: The least populated class in y has only 2 members, which is less than n_splits=5.\n",
      "  warnings.warn((\"The least populated class in y has only %d\"\n"
     ]
    },
    {
     "name": "stdout",
     "output_type": "stream",
     "text": [
      "Best: -0.859257 using {'max_depth': 15, 'max_features': 10, 'max_leaf_nodes': 100, 'min_samples_leaf': 10, 'min_samples_split': 150, 'n_estimators': 500}\n",
      "Loop for: EMA15 COMB\n",
      "...getting data\n",
      "...training models\n"
     ]
    },
    {
     "name": "stderr",
     "output_type": "stream",
     "text": [
      "C:\\ProgramData\\Anaconda3\\lib\\site-packages\\sklearn\\model_selection\\_split.py:670: UserWarning: The least populated class in y has only 2 members, which is less than n_splits=5.\n",
      "  warnings.warn((\"The least populated class in y has only %d\"\n",
      "C:\\ProgramData\\Anaconda3\\lib\\site-packages\\sklearn\\model_selection\\_split.py:670: UserWarning: The least populated class in y has only 2 members, which is less than n_splits=5.\n",
      "  warnings.warn((\"The least populated class in y has only %d\"\n",
      "C:\\ProgramData\\Anaconda3\\lib\\site-packages\\sklearn\\model_selection\\_split.py:670: UserWarning: The least populated class in y has only 2 members, which is less than n_splits=5.\n",
      "  warnings.warn((\"The least populated class in y has only %d\"\n"
     ]
    },
    {
     "name": "stdout",
     "output_type": "stream",
     "text": [
      "Best: -0.856964 using {'max_depth': 15, 'max_features': 10, 'max_leaf_nodes': 100, 'min_samples_leaf': 10, 'min_samples_split': 150, 'n_estimators': 500}\n",
      "Loop for: EMA5 COMB\n",
      "...getting data\n",
      "...training models\n"
     ]
    },
    {
     "name": "stderr",
     "output_type": "stream",
     "text": [
      "C:\\ProgramData\\Anaconda3\\lib\\site-packages\\sklearn\\model_selection\\_split.py:670: UserWarning: The least populated class in y has only 2 members, which is less than n_splits=5.\n",
      "  warnings.warn((\"The least populated class in y has only %d\"\n",
      "C:\\ProgramData\\Anaconda3\\lib\\site-packages\\sklearn\\model_selection\\_split.py:670: UserWarning: The least populated class in y has only 2 members, which is less than n_splits=5.\n",
      "  warnings.warn((\"The least populated class in y has only %d\"\n",
      "C:\\ProgramData\\Anaconda3\\lib\\site-packages\\sklearn\\model_selection\\_split.py:670: UserWarning: The least populated class in y has only 2 members, which is less than n_splits=5.\n",
      "  warnings.warn((\"The least populated class in y has only %d\"\n"
     ]
    },
    {
     "name": "stdout",
     "output_type": "stream",
     "text": [
      "Best: -0.864090 using {'max_depth': 15, 'max_features': 10, 'max_leaf_nodes': 100, 'min_samples_leaf': 10, 'min_samples_split': 150, 'n_estimators': 500}\n",
      "Loop for: EMA20 HA\n",
      "...getting data\n",
      "...training models\n"
     ]
    },
    {
     "name": "stderr",
     "output_type": "stream",
     "text": [
      "C:\\ProgramData\\Anaconda3\\lib\\site-packages\\sklearn\\model_selection\\_split.py:670: UserWarning: The least populated class in y has only 2 members, which is less than n_splits=5.\n",
      "  warnings.warn((\"The least populated class in y has only %d\"\n",
      "C:\\ProgramData\\Anaconda3\\lib\\site-packages\\sklearn\\model_selection\\_split.py:670: UserWarning: The least populated class in y has only 2 members, which is less than n_splits=5.\n",
      "  warnings.warn((\"The least populated class in y has only %d\"\n",
      "C:\\ProgramData\\Anaconda3\\lib\\site-packages\\sklearn\\model_selection\\_split.py:670: UserWarning: The least populated class in y has only 2 members, which is less than n_splits=5.\n",
      "  warnings.warn((\"The least populated class in y has only %d\"\n"
     ]
    },
    {
     "name": "stdout",
     "output_type": "stream",
     "text": [
      "Best: -0.857201 using {'max_depth': 15, 'max_features': 10, 'max_leaf_nodes': 100, 'min_samples_leaf': 10, 'min_samples_split': 150, 'n_estimators': 500}\n",
      "Loop for: EMA15 HA\n",
      "...getting data\n",
      "...training models\n"
     ]
    },
    {
     "name": "stderr",
     "output_type": "stream",
     "text": [
      "C:\\ProgramData\\Anaconda3\\lib\\site-packages\\sklearn\\model_selection\\_split.py:670: UserWarning: The least populated class in y has only 2 members, which is less than n_splits=5.\n",
      "  warnings.warn((\"The least populated class in y has only %d\"\n",
      "C:\\ProgramData\\Anaconda3\\lib\\site-packages\\sklearn\\model_selection\\_split.py:670: UserWarning: The least populated class in y has only 2 members, which is less than n_splits=5.\n",
      "  warnings.warn((\"The least populated class in y has only %d\"\n",
      "C:\\ProgramData\\Anaconda3\\lib\\site-packages\\sklearn\\model_selection\\_split.py:670: UserWarning: The least populated class in y has only 2 members, which is less than n_splits=5.\n",
      "  warnings.warn((\"The least populated class in y has only %d\"\n"
     ]
    },
    {
     "name": "stdout",
     "output_type": "stream",
     "text": [
      "Best: -0.857258 using {'max_depth': 15, 'max_features': 10, 'max_leaf_nodes': 100, 'min_samples_leaf': 10, 'min_samples_split': 150, 'n_estimators': 500}\n"
     ]
    }
   ],
   "source": [
    "\n",
    "import pandas\n",
    "import numpy as np\n",
    "from sklearn.datasets import make_blobs\n",
    "from sklearn.model_selection import RepeatedStratifiedKFold\n",
    "from sklearn.model_selection import GridSearchCV\n",
    "from sklearn.ensemble import RandomForestRegressor\n",
    "\n",
    "\n",
    "\n",
    "#get different feature types\n",
    "df_iterator = get_feature_types()\n",
    "\n",
    "print(df_iterator)\n",
    "\n",
    "for index, row in df_iterator.iterrows():\n",
    "    print('Loop for: ' + str(row['feature_type']))\n",
    "    \n",
    "    \n",
    "    print('...getting data')\n",
    "    \n",
    "    #get data to train home expGoals model\n",
    "    df_data = get_home_data(row['feature_type'])\n",
    "    \n",
    "    x = df_data.iloc[:,:28]\n",
    "    y = df_data.iloc[:,29]\n",
    "\n",
    "    #print(x.head(5))\n",
    "    #print(y.head(5))\n",
    "    \n",
    "    print('...training models')\n",
    "\n",
    "    # define models and parameters\n",
    "    model = RandomForestRegressor()\n",
    "\n",
    "    #home expected goals -> -1.498672\n",
    "    #max_depth = [15]\n",
    "    #min_samples_leaf = [10]\n",
    "    #min_samples_split = [150]\n",
    "    #max_leaf_nodes = [100]\n",
    "    #n_estimators = [600]\n",
    "    #max_features = [10]\n",
    "\n",
    "    #away expected goals -> -1,24\n",
    "    max_depth = [15]\n",
    "    min_samples_leaf = [10]\n",
    "    min_samples_split = [150]\n",
    "    max_leaf_nodes = [100]\n",
    "    n_estimators = [500]\n",
    "    max_features = [10]\n",
    "\n",
    "\n",
    "    # define grid search\n",
    "    grid = dict(max_depth=max_depth, \n",
    "                min_samples_leaf=min_samples_leaf, \n",
    "                min_samples_split=min_samples_split, \n",
    "                max_leaf_nodes=max_leaf_nodes, \n",
    "                n_estimators=n_estimators,\n",
    "               max_features=max_features)\n",
    "\n",
    "    cv = RepeatedStratifiedKFold(n_splits=5, n_repeats=3, random_state=1)\n",
    "    #grid_search = GridSearchCV(estimator=model, param_grid=grid, n_jobs=-1, cv=cv, scoring='neg_mean_squared_error',error_score=0)\n",
    "    grid_search = GridSearchCV(estimator=model, param_grid=grid, n_jobs=-1, cv=cv, scoring='neg_mean_absolute_error',error_score=0)\n",
    "    grid_result = grid_search.fit(x, y)\n",
    "\n",
    "    # summarize results\n",
    "    print(\"Best: %f using %s\" % (grid_result.best_score_, grid_result.best_params_))\n",
    "    "
   ]
  }
 ],
 "metadata": {
  "kernelspec": {
   "display_name": "Python 3",
   "language": "python",
   "name": "python3"
  },
  "language_info": {
   "codemirror_mode": {
    "name": "ipython",
    "version": 3
   },
   "file_extension": ".py",
   "mimetype": "text/x-python",
   "name": "python",
   "nbconvert_exporter": "python",
   "pygments_lexer": "ipython3",
   "version": "3.7.6"
  }
 },
 "nbformat": 4,
 "nbformat_minor": 4
}
