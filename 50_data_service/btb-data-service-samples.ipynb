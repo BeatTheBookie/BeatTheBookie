{
 "cells": [
  {
   "cell_type": "markdown",
   "metadata": {},
   "source": [
    "## Basic connect\n",
    "\n",
    "Sample how to connect to the REST Api and test the API key"
   ]
  },
  {
   "cell_type": "code",
   "execution_count": 70,
   "metadata": {},
   "outputs": [
    {
     "name": "stdout",
     "output_type": "stream",
     "text": [
      "b'\"Authentication successful\"'\n"
     ]
    }
   ],
   "source": [
    "import requests\n",
    "\n",
    "#endpoint for ZIP poisson model\n",
    "url = 'https://data-service.beatthebookie.blog/auth-test'\n",
    "\n",
    "#create header information containing the API Key\n",
    "my_headers = {'x-api-key' : '[API-key]'}\n",
    "\n",
    "#Call HTTP get method for endpoint and provide header information\n",
    "response = requests.get(url, headers=my_headers)\n",
    "\n",
    "#print response\n",
    "print(response.content)"
   ]
  },
  {
   "cell_type": "markdown",
   "metadata": {},
   "source": [
    "## Read data and store in Pandas data frame\n",
    "\n",
    "Sample how to connect to the REST Api and handle data in\n",
    "a pandas data frame."
   ]
  },
  {
   "cell_type": "code",
   "execution_count": 69,
   "metadata": {},
   "outputs": [
    {
     "name": "stdout",
     "output_type": "stream",
     "text": [
      "                        division_id       division  \\\n",
      "0  a355facc87c038e88972f99b7c6d388b  2. Bundesliga   \n",
      "1  a355facc87c038e88972f99b7c6d388b  2. Bundesliga   \n",
      "2  a355facc87c038e88972f99b7c6d388b  2. Bundesliga   \n",
      "3  a355facc87c038e88972f99b7c6d388b  2. Bundesliga   \n",
      "4  a355facc87c038e88972f99b7c6d388b  2. Bundesliga   \n",
      "5  a355facc87c038e88972f99b7c6d388b  2. Bundesliga   \n",
      "6  a355facc87c038e88972f99b7c6d388b  2. Bundesliga   \n",
      "7  a355facc87c038e88972f99b7c6d388b  2. Bundesliga   \n",
      "8  a355facc87c038e88972f99b7c6d388b  2. Bundesliga   \n",
      "\n",
      "                          season_id    season  match_date  \\\n",
      "0  a290f895d08db6bb30a573aedf784bad  20202021  2021-08-01   \n",
      "1  a290f895d08db6bb30a573aedf784bad  20202021  2021-07-25   \n",
      "2  a290f895d08db6bb30a573aedf784bad  20202021  2021-07-24   \n",
      "3  a290f895d08db6bb30a573aedf784bad  20202021  2021-07-30   \n",
      "4  a290f895d08db6bb30a573aedf784bad  20202021  2021-07-30   \n",
      "5  a290f895d08db6bb30a573aedf784bad  20202021  2021-07-31   \n",
      "6  a290f895d08db6bb30a573aedf784bad  20202021  2021-07-25   \n",
      "7  a290f895d08db6bb30a573aedf784bad  20202021  2021-07-25   \n",
      "8  a290f895d08db6bb30a573aedf784bad  20202021  2021-07-24   \n",
      "\n",
      "                       match_teams                      home_team_id  \\\n",
      "0        Erzgebirge Aue - St Pauli  85a7e0e269f59e495ff35ebae520a3fd   \n",
      "1        Nurnberg - Erzgebirge Aue  597f8ad5c16e3ca0228c4a82f9e71e96   \n",
      "2           Darmstadt - Regensburg  a6b1694c64918f9e8fbeabbc16d599a4   \n",
      "3            Karlsruhe - Darmstadt  4d3e0acd6166e7434bc37196cd875740   \n",
      "4             Paderborn - Nurnberg  a32fa8d7e685ef1206f5e1153a34698e   \n",
      "5          Regensburg - Sandhausen  26cf926782fe0bf1a37ac9960658499f   \n",
      "6         St Pauli - Holstein Kiel  a34346a46ada46edcae15a6944c3920e   \n",
      "7  Sandhausen - Fortuna Dusseldorf  430e687f76adc6240d279493d27772fc   \n",
      "8           Heidenheim - Paderborn  84d6d587cbef6adda831859e69e739fd   \n",
      "\n",
      "        home_team                      away_team_id           away_team  ...  \\\n",
      "0  Erzgebirge Aue  a34346a46ada46edcae15a6944c3920e            St Pauli  ...   \n",
      "1        Nurnberg  85a7e0e269f59e495ff35ebae520a3fd      Erzgebirge Aue  ...   \n",
      "2       Darmstadt  26cf926782fe0bf1a37ac9960658499f          Regensburg  ...   \n",
      "3       Karlsruhe  a6b1694c64918f9e8fbeabbc16d599a4           Darmstadt  ...   \n",
      "4       Paderborn  597f8ad5c16e3ca0228c4a82f9e71e96            Nurnberg  ...   \n",
      "5      Regensburg  430e687f76adc6240d279493d27772fc          Sandhausen  ...   \n",
      "6        St Pauli  2963047affcc570a1b46ca60d8acfd6a       Holstein Kiel  ...   \n",
      "7      Sandhausen  057b44e5fe437b1f777f6aa025781c4a  Fortuna Dusseldorf  ...   \n",
      "8      Heidenheim  a32fa8d7e685ef1206f5e1153a34698e           Paderborn  ...   \n",
      "\n",
      "   away_defence_strength  home_expected_goals  away_expected_goals  \\\n",
      "0                   1.23                  2.2                  1.3   \n",
      "1                   0.97                  1.1                  1.0   \n",
      "2                   1.17                  2.0                  0.9   \n",
      "3                   1.03                  1.3                  1.7   \n",
      "4                   1.01                  2.5                  1.6   \n",
      "5                   1.25                  1.8                  1.0   \n",
      "6                   0.84                  1.3                  1.6   \n",
      "7                   0.93                  1.4                  1.3   \n",
      "8                   0.78                  1.4                  0.8   \n",
      "\n",
      "   home_win_prob  draw_prob  away_win_prob  under_15_prob  over_15_prob  \\\n",
      "0         0.5793     0.2032         0.2176         0.1508        0.8492   \n",
      "1         0.3649     0.3022         0.3329         0.3918        0.6082   \n",
      "2         0.6351     0.2065         0.1585         0.2190        0.7810   \n",
      "3         0.2872     0.2376         0.4752         0.2100        0.7900   \n",
      "4         0.5570     0.1895         0.2535         0.0925        0.9075   \n",
      "5         0.5684     0.2273         0.2043         0.2318        0.7682   \n",
      "6         0.3107     0.2477         0.4416         0.2322        0.7678   \n",
      "7         0.3788     0.2577         0.3635         0.2545        0.7455   \n",
      "8         0.5017     0.2752         0.2232         0.3545        0.6455   \n",
      "\n",
      "   under_25_prob  over_25_prob  \n",
      "0         0.3425        0.6575  \n",
      "1         0.6604        0.3396  \n",
      "2         0.4488        0.5512  \n",
      "3         0.4359        0.5641  \n",
      "4         0.2357        0.7643  \n",
      "5         0.4673        0.5327  \n",
      "6         0.4679        0.5321  \n",
      "7         0.4987        0.5013  \n",
      "8         0.6205        0.3795  \n",
      "\n",
      "[9 rows x 23 columns]\n"
     ]
    }
   ],
   "source": [
    "import requests\n",
    "import pandas as pd\n",
    "import json\n",
    "\n",
    "v_path = 'c:\\temp'\n",
    "v_file_name = '2bundesliga_sample.csv'\n",
    "\n",
    "#endpoint for ZIP poisson model\n",
    "url = 'https://data-service.beatthebookie.blog/zip-poisson-model'\n",
    "\n",
    "#create header information containing the API Key\n",
    "my_headers = {'x-api-key' : '[API key]'}\n",
    "\n",
    "#Call HTTP get method for endpoint and provide header information\n",
    "response = requests.get(url, headers=my_headers)\n",
    "\n",
    "df_predictions = pd.read_json(response.content)\n",
    "\n",
    "print(df_predictions)"
   ]
  }
 ],
 "metadata": {
  "kernelspec": {
   "display_name": "Python 3",
   "language": "python",
   "name": "python3"
  },
  "language_info": {
   "codemirror_mode": {
    "name": "ipython",
    "version": 3
   },
   "file_extension": ".py",
   "mimetype": "text/x-python",
   "name": "python",
   "nbconvert_exporter": "python",
   "pygments_lexer": "ipython3",
   "version": "3.7.6"
  }
 },
 "nbformat": 4,
 "nbformat_minor": 4
}
